{
 "cells": [
  {
   "cell_type": "markdown",
   "id": "240bfd7b",
   "metadata": {},
   "source": [
    "3.1"
   ]
  },
  {
   "cell_type": "code",
   "execution_count": 32,
   "id": "925a0f48",
   "metadata": {},
   "outputs": [
    {
     "data": {
      "text/plain": [
       "3600"
      ]
     },
     "execution_count": 32,
     "metadata": {},
     "output_type": "execute_result"
    }
   ],
   "source": [
    "60 * 60"
   ]
  },
  {
   "cell_type": "markdown",
   "id": "5e96a288",
   "metadata": {},
   "source": [
    "3.2"
   ]
  },
  {
   "cell_type": "code",
   "execution_count": 33,
   "id": "5b1b2773",
   "metadata": {},
   "outputs": [],
   "source": [
    "seconds_per_hour = 60 * 60"
   ]
  },
  {
   "cell_type": "markdown",
   "id": "335d5129",
   "metadata": {},
   "source": [
    "3.3"
   ]
  },
  {
   "cell_type": "code",
   "execution_count": 34,
   "id": "82e6f712",
   "metadata": {},
   "outputs": [
    {
     "data": {
      "text/plain": [
       "86400"
      ]
     },
     "execution_count": 34,
     "metadata": {},
     "output_type": "execute_result"
    }
   ],
   "source": [
    "seconds_per_hour * 24"
   ]
  },
  {
   "cell_type": "markdown",
   "id": "5547acb0",
   "metadata": {},
   "source": [
    "3.4"
   ]
  },
  {
   "cell_type": "code",
   "execution_count": 35,
   "id": "f1931cd2",
   "metadata": {},
   "outputs": [],
   "source": [
    "seconds_per_day = seconds_per_hour * 24"
   ]
  },
  {
   "cell_type": "markdown",
   "id": "8eae303b",
   "metadata": {},
   "source": [
    "3.5"
   ]
  },
  {
   "cell_type": "code",
   "execution_count": 36,
   "id": "893ecd3d",
   "metadata": {},
   "outputs": [
    {
     "data": {
      "text/plain": [
       "24.0"
      ]
     },
     "execution_count": 36,
     "metadata": {},
     "output_type": "execute_result"
    }
   ],
   "source": [
    "seconds_per_day / seconds_per_hour"
   ]
  },
  {
   "cell_type": "markdown",
   "id": "47dc8907",
   "metadata": {},
   "source": [
    "3.6"
   ]
  },
  {
   "cell_type": "code",
   "execution_count": 37,
   "id": "f658fb6b",
   "metadata": {},
   "outputs": [
    {
     "data": {
      "text/plain": [
       "24"
      ]
     },
     "execution_count": 37,
     "metadata": {},
     "output_type": "execute_result"
    }
   ],
   "source": [
    "seconds_per_day // seconds_per_hour"
   ]
  },
  {
   "cell_type": "markdown",
   "id": "6ce59bbf",
   "metadata": {},
   "source": [
    "Yes, the numbers agreed. "
   ]
  },
  {
   "cell_type": "markdown",
   "id": "c9b6a8ee",
   "metadata": {},
   "source": [
    "4.1"
   ]
  },
  {
   "cell_type": "code",
   "execution_count": 38,
   "id": "1460689f",
   "metadata": {},
   "outputs": [
    {
     "name": "stdout",
     "output_type": "stream",
     "text": [
      "Your guess was too low.\n"
     ]
    }
   ],
   "source": [
    "secret = 2\n",
    "guess = int(input(\"Please enter your guess as an integer:\", ))\n",
    "\n",
    "if guess < secret:\n",
    "    print(\"Your guess was too low.\")\n",
    "\n",
    "elif guess > secret:\n",
    "    print(\"Your guess was too high\")\n",
    "\n",
    "else:\n",
    "    print(\"Your guess was correct! Well done!\")\n"
   ]
  },
  {
   "cell_type": "markdown",
   "id": "c1a23404",
   "metadata": {},
   "source": [
    "4.2"
   ]
  },
  {
   "cell_type": "code",
   "execution_count": 39,
   "id": "7d2ff646",
   "metadata": {},
   "outputs": [
    {
     "name": "stdout",
     "output_type": "stream",
     "text": [
      "This choice was either not small or not green\n"
     ]
    }
   ],
   "source": [
    "import random\n",
    "\n",
    "small = True\n",
    "green = True\n",
    "orange = False\n",
    "red = False\n",
    "large = False\n",
    "\n",
    "cherry = small and red\n",
    "\n",
    "pea = small and green\n",
    "\n",
    "watermelon = large and green\n",
    "\n",
    "pumpkin = large and orange\n",
    "\n",
    "list = [cherry, pea, watermelon, pumpkin]\n",
    "\n",
    "choice = random.choice(list)\n",
    "\n",
    "if choice == (small and green):\n",
    "    print(\"This choice is both small AND green\")\n",
    "\n",
    "else:\n",
    "    print(\"This choice was either not small or not green\")"
   ]
  },
  {
   "cell_type": "markdown",
   "id": "d35e5a14",
   "metadata": {},
   "source": [
    "6.1"
   ]
  },
  {
   "cell_type": "code",
   "execution_count": 40,
   "id": "e13542fa",
   "metadata": {},
   "outputs": [
    {
     "name": "stdout",
     "output_type": "stream",
     "text": [
      "3\n",
      "2\n",
      "1\n",
      "0\n"
     ]
    }
   ],
   "source": [
    "list = [3, 2, 1, 0]\n",
    "\n",
    "for x in list:\n",
    "    print(x)"
   ]
  },
  {
   "cell_type": "markdown",
   "id": "c3e37b16",
   "metadata": {},
   "source": [
    "6.2"
   ]
  },
  {
   "cell_type": "code",
   "execution_count": 41,
   "id": "629a45d3",
   "metadata": {},
   "outputs": [
    {
     "name": "stdout",
     "output_type": "stream",
     "text": [
      "Found it!\n"
     ]
    }
   ],
   "source": [
    "guess_me = 7\n",
    "\n",
    "number = 0\n",
    "\n",
    "while number != guess_me:\n",
    "    number = int(input(\"Please enter your guess as an integer:\"))\n",
    "    if number < guess_me:\n",
    "        print(\"too low\")\n",
    "    elif number > guess_me:\n",
    "        print(\"oops\")\n",
    "    else:\n",
    "        print(\"Found it!\")\n",
    "        break"
   ]
  },
  {
   "cell_type": "markdown",
   "id": "5811b316",
   "metadata": {},
   "source": [
    "6.3"
   ]
  },
  {
   "cell_type": "code",
   "execution_count": 42,
   "id": "8d0619b9",
   "metadata": {},
   "outputs": [
    {
     "name": "stdout",
     "output_type": "stream",
     "text": [
      "too low\n",
      "too low\n",
      "too low\n",
      "too low\n",
      "too low\n",
      "Found it!\n"
     ]
    }
   ],
   "source": [
    "guess_me = 5\n",
    "\n",
    "number = range(10)\n",
    "\n",
    "for x in number:\n",
    "    if x < guess_me:\n",
    "        print(\"too low\")\n",
    "        x+=x\n",
    "    elif x > guess_me:\n",
    "        print(\"oops\")\n",
    "        break\n",
    "    else:\n",
    "        print(\"Found it!\")\n",
    "        break"
   ]
  },
  {
   "cell_type": "markdown",
   "id": "7efa95f2",
   "metadata": {},
   "source": [
    "7.4 Make a list called things with these three strings as elements: \"mozzarella\", \"cinderella\", \"salmonella\""
   ]
  },
  {
   "cell_type": "code",
   "execution_count": 43,
   "id": "28b071bd",
   "metadata": {},
   "outputs": [],
   "source": [
    "things = [\"mozzarella\", \"cinderella\", \"salmonella\"]"
   ]
  },
  {
   "cell_type": "markdown",
   "id": "37645fc1",
   "metadata": {},
   "source": [
    "7.5 Capitalize the element in things that refers to a person and then print the list. Did it change the element in the list?"
   ]
  },
  {
   "cell_type": "code",
   "execution_count": 44,
   "id": "994dfcd6",
   "metadata": {},
   "outputs": [
    {
     "name": "stdout",
     "output_type": "stream",
     "text": [
      "['mozzarella', 'Cinderella', 'salmonella']\n"
     ]
    }
   ],
   "source": [
    "things[1] = \"cinderella\".capitalize()\n",
    "\n",
    "print(f\"{things}\")"
   ]
  },
  {
   "cell_type": "markdown",
   "id": "21a58a35",
   "metadata": {},
   "source": [
    "7.6 Make the cheesy element of things all uppercase and then print the list."
   ]
  },
  {
   "cell_type": "code",
   "execution_count": 45,
   "id": "b32a17d4",
   "metadata": {},
   "outputs": [
    {
     "name": "stdout",
     "output_type": "stream",
     "text": [
      "['MOZZARELLA', 'Cinderella', 'salmonella']\n"
     ]
    }
   ],
   "source": [
    "things[0] = \"mozzarella\".swapcase()\n",
    "\n",
    "print(f\"{things}\")"
   ]
  },
  {
   "cell_type": "markdown",
   "id": "f89a73bd",
   "metadata": {},
   "source": [
    "7.7 Delete the disease element from things, collect your Nobel Prize, and print the list."
   ]
  },
  {
   "cell_type": "code",
   "execution_count": 46,
   "id": "4332d59b",
   "metadata": {},
   "outputs": [
    {
     "name": "stdout",
     "output_type": "stream",
     "text": [
      "['MOZZARELLA', 'Cinderella']\n"
     ]
    }
   ],
   "source": [
    "things.pop(2)\n",
    "\n",
    "print(f\"{things}\")"
   ]
  },
  {
   "cell_type": "markdown",
   "id": "a074f7a7",
   "metadata": {},
   "source": [
    "9.1 Define a function called good() that returns the following list: ['Harry', 'Ron', 'Hermione']"
   ]
  },
  {
   "cell_type": "code",
   "execution_count": 47,
   "id": "39f076e5",
   "metadata": {},
   "outputs": [],
   "source": [
    "def good(list):\n",
    "    good_guys = [\"Harry\", \"Ron\", \"Hermione\"]\n",
    "    list = good_guys\n",
    "    return list"
   ]
  },
  {
   "cell_type": "markdown",
   "id": "b901489e",
   "metadata": {},
   "source": [
    "9.2 Define a generator function called get_odds() that returns the odd numbers from range(10). Use a for loop to find and print the third value returned."
   ]
  },
  {
   "cell_type": "code",
   "execution_count": 48,
   "id": "1450c65e",
   "metadata": {},
   "outputs": [
    {
     "name": "stdout",
     "output_type": "stream",
     "text": [
      "5\n"
     ]
    }
   ],
   "source": [
    "def get_odds(list):\n",
    "    count = 0\n",
    "    for x in range(0,10):\n",
    "        if(x % 2 == 0):\n",
    "          continue\n",
    "        else:\n",
    "           list.append(x)\n",
    "\n",
    "\n",
    "list = []\n",
    "get_odds(list)\n",
    "y = len(list)\n",
    "\n",
    "for y in range(0,y):\n",
    "   if(y==2):\n",
    "      print(f\"{list[y]}\")\n",
    "   else:\n",
    "      y = y + 1"
   ]
  },
  {
   "cell_type": "markdown",
   "id": "d7d99710",
   "metadata": {},
   "source": [
    "11.1 Create a file called zoo.py. In it, define a function called hours() that prints the string 'Open 9-5 daily'. Then, use the interactive interpreter to import the zoo module and call its hours() function."
   ]
  },
  {
   "cell_type": "code",
   "execution_count": 32,
   "id": "d5588c70",
   "metadata": {},
   "outputs": [],
   "source": [
    "import os\n",
    "\n",
    "text =  \"\"\"\n",
    "def hours():\n",
    "    if __name__ == \"__main__\":\n",
    "        print(\"Import failed!\")\n",
    "    else:\n",
    "        print(\"Open 9-5 daily!\")\n",
    "        \"\"\"\n",
    "\n",
    "if os.path.exists('./Module_4/zoo.py') == False:\n",
    "    fout = open('./Module_4/zoo.py', 'wt')\n",
    "    print(text)\n",
    "    fout.close()\n",
    "elif os.path.exists('./Module_4/zoo.py') == True:\n",
    "    fout = open('./Module_4/zoo.py', 'wt')\n",
    "    if fout.tell() == 0:\n",
    "       fout.write(text)\n",
    "       fout.close()\n",
    "    elif fout.tell() != 0:\n",
    "        fout.seek(0)\n",
    "        file_text = fout.read()\n",
    "        fout.close()\n",
    "        if file_text == text:\n",
    "            print(\"File already exists with correct text!\")\n",
    "        else:\n",
    "            fout = open('./Module_4/zoo.py', 'wt')\n",
    "            fout.write(text)\n",
    "            fout.close()\n",
    "    else:\n",
    "        print(\"How did you do that?\")\n",
    "else:\n",
    "    print(\"How did you do that?\")\n",
    "\n",
    "import sys\n",
    "sys.path.append('C:\\\\Users\\\\dosta\\\\OneDrive\\\\Documentos\\\\Homework\\\\SDEV220\\\\Module_4')\n",
    "\n",
    "import zoo\n",
    "zoo.hours()\n"
   ]
  },
  {
   "cell_type": "markdown",
   "id": "f753f4bf",
   "metadata": {},
   "source": [
    "11.2 In the interactive interpreter, import the zoo module as menagerie and call its hours() function."
   ]
  },
  {
   "cell_type": "code",
   "execution_count": 33,
   "id": "6024a26d",
   "metadata": {},
   "outputs": [],
   "source": [
    "import os\n",
    "\n",
    "text =  \"\"\"\n",
    "def hours():\n",
    "    if __name__ == \"__main__\":\n",
    "        print(\"Import failed!\")\n",
    "    else:\n",
    "        print(\"Open 9-5 daily!\")\n",
    "        \"\"\"\n",
    "\n",
    "if os.path.exists('./Module_4/zoo.py') == False:\n",
    "    fout = open('./Module_4/zoo.py', 'wt')\n",
    "    print(text)\n",
    "    fout.close()\n",
    "elif os.path.exists('./Module_4/zoo.py') == True:\n",
    "    fout = open('./Module_4/zoo.py', 'wt')\n",
    "    if fout.tell() == 0:\n",
    "       fout.write(text)\n",
    "       fout.close()\n",
    "    elif fout.tell() != 0:\n",
    "        fout.seek(0)\n",
    "        file_text = fout.read()\n",
    "        fout.close()\n",
    "        if file_text == text:\n",
    "            print(\"File already exists with correct text!\")\n",
    "        else:\n",
    "            fout = open('./Module_4/zoo.py', 'wt')\n",
    "            fout.write(text)\n",
    "            fout.close()\n",
    "    else:\n",
    "        print(\"How did you do that?\")\n",
    "else:\n",
    "    print(\"How did you do that?\")\n",
    "\n",
    "import sys\n",
    "sys.path.append('C:\\\\Users\\\\dosta\\\\OneDrive\\\\Documentos\\\\Homework\\\\SDEV220\\\\Module_4')\n",
    "\n",
    "import zoo as menagerie\n",
    "menagerie.hours()"
   ]
  },
  {
   "cell_type": "markdown",
   "id": "297d5a25",
   "metadata": {},
   "source": [
    "16.4 Use the sqlite3 module to create a SQLite database called books.db and a table called books with these fields: title (text), author (text), and year (integer).\n",
    "\n",
    "16.5 Read books2.csv and insert its data into the book table."
   ]
  },
  {
   "cell_type": "code",
   "execution_count": 2,
   "id": "ea71ce4c",
   "metadata": {},
   "outputs": [
    {
     "name": "stdout",
     "output_type": "stream",
     "text": [
      "[('Perdido Street Station',), ('Small Gods',), ('The Spellman Files',), ('The Weirdstone of Brisingamen',), ('Thud!',), ('title',)]\n"
     ]
    }
   ],
   "source": [
    "import sqlite3\n",
    "import csv\n",
    "\n",
    "ch16_connection = sqlite3.connect('books.db',timeout=10)\n",
    "ch16_cursor = ch16_connection.cursor()\n",
    "sql_create_table = '''CREATE TABLE books (title VARCHAR(40) PRIMARY KEY, author VARCHAR(40), year INTEGER)'''\n",
    "try:\n",
    "    ch16_cursor.execute(sql_create_table)\n",
    "except Exception as e:\n",
    "    pass\n",
    "else:\n",
    "    ch16_cursor.execute(sql_create_table)\n",
    "    ch16_cursor.close()\n",
    "    ch16_connection.close()\n",
    "\n",
    "\n",
    "with open('books.csv', 'rt') as csv_file:\n",
    "    csv_reader = csv.reader(csv_file)\n",
    "    book_list = [row for row in csv_reader]\n",
    "\n",
    "ch16_connection = sqlite3.connect('books.db',timeout=10)\n",
    "ch16_cursor = ch16_connection.cursor()\n",
    "sql_table_transaction = \"BEGIN TRANSACTION\" \n",
    "sql_table_insert = \"INSERT INTO books (title,author,year) VALUES (?,?,?)\"\n",
    "ch16_cursor.execute(sql_table_transaction)\n",
    "ch16_cursor.executemany( sql_table_insert, book_list)\n",
    "ch16_connection.commit()\n",
    "ch16_cursor.close()\n",
    "ch16_connection.close()\n",
    "\n",
    "ch16_connection = sqlite3.connect('books.db',timeout=10)\n",
    "ch16_cursor = ch16_connection.cursor()\n",
    "sql_format_table = \"SELECT title FROM books ORDER BY title\"\n",
    "ch16_cursor.execute(sql_format_table)\n",
    "book_rows = ch16_cursor.fetchall()\n",
    "print(book_rows)\n",
    "ch16_cursor.close()\n",
    "ch16_connection.close()\n",
    "\n"
   ]
  },
  {
   "cell_type": "markdown",
   "id": "2d808536",
   "metadata": {},
   "source": [
    "16.8 Use the sqlalchemy module to connect to the sqlite3 database books.db that you just made in exercise 16.4. As in 16.6, select and print the title column from the book table in alphabetical order."
   ]
  },
  {
   "cell_type": "code",
   "execution_count": 12,
   "id": "68afc634",
   "metadata": {},
   "outputs": [
    {
     "name": "stdout",
     "output_type": "stream",
     "text": [
      "[('Perdido Street Station',), ('Small Gods',), ('The Spellman Files',), ('The Weirdstone of Brisingamen',), ('Thud!',), ('title',)]\n"
     ]
    }
   ],
   "source": [
    "import sqlite3\n",
    "import sqlalchemy\n",
    "from sqlalchemy import text\n",
    "\n",
    "engine = sqlalchemy.create_engine('sqlite+pysqlite:///C:\\\\Users\\\\dosta\\\\OneDrive\\\\Documentos\\\\Homework\\\\SDEV220\\\\books.db')\n",
    "\n",
    "with engine.connect() as connection:\n",
    "    result = connection.execute(text(\"SELECT title FROM books ORDER BY title\"))\n",
    "    rows = [row for row in result]\n",
    "    print(f\"{rows}\")\n",
    "\n",
    "\n",
    "\n",
    "\n",
    "\n"
   ]
  },
  {
   "cell_type": "markdown",
   "id": "e775ea20",
   "metadata": {},
   "source": [
    "Testing Your Code"
   ]
  },
  {
   "cell_type": "code",
   "execution_count": 1,
   "id": "bd3427f1",
   "metadata": {},
   "outputs": [],
   "source": [
    "assert sum([1, 2, 3]) == 6, \"Should be 6\"\n"
   ]
  },
  {
   "cell_type": "code",
   "execution_count": 2,
   "id": "add319e3",
   "metadata": {},
   "outputs": [
    {
     "ename": "AssertionError",
     "evalue": "Should be 6",
     "output_type": "error",
     "traceback": [
      "\u001b[31m---------------------------------------------------------------------------\u001b[39m",
      "\u001b[31mAssertionError\u001b[39m                            Traceback (most recent call last)",
      "\u001b[36mCell\u001b[39m\u001b[36m \u001b[39m\u001b[32mIn[2]\u001b[39m\u001b[32m, line 1\u001b[39m\n\u001b[32m----> \u001b[39m\u001b[32m1\u001b[39m \u001b[38;5;28;01massert\u001b[39;00m \u001b[38;5;28msum\u001b[39m([\u001b[32m1\u001b[39m, \u001b[32m1\u001b[39m, \u001b[32m1\u001b[39m]) == \u001b[32m6\u001b[39m, \u001b[33m\"\u001b[39m\u001b[33mShould be 6\u001b[39m\u001b[33m\"\u001b[39m\n",
      "\u001b[31mAssertionError\u001b[39m: Should be 6"
     ]
    }
   ],
   "source": [
    "assert sum([1, 1, 1]) == 6, \"Should be 6\""
   ]
  },
  {
   "cell_type": "code",
   "execution_count": 3,
   "id": "ebc7bd0c",
   "metadata": {},
   "outputs": [
    {
     "name": "stdout",
     "output_type": "stream",
     "text": [
      "Everything passed\n"
     ]
    }
   ],
   "source": [
    "def test_sum():\n",
    "    assert sum([1, 2, 3]) == 6, \"Should be 6\"\n",
    "\n",
    "if __name__ == \"__main__\":\n",
    "    test_sum()\n",
    "    print(\"Everything passed\")\n"
   ]
  },
  {
   "cell_type": "code",
   "execution_count": 4,
   "id": "cf4656ee",
   "metadata": {},
   "outputs": [
    {
     "ename": "AssertionError",
     "evalue": "Should be 6",
     "output_type": "error",
     "traceback": [
      "\u001b[31m---------------------------------------------------------------------------\u001b[39m",
      "\u001b[31mAssertionError\u001b[39m                            Traceback (most recent call last)",
      "\u001b[36mCell\u001b[39m\u001b[36m \u001b[39m\u001b[32mIn[4]\u001b[39m\u001b[32m, line 9\u001b[39m\n\u001b[32m      7\u001b[39m \u001b[38;5;28;01mif\u001b[39;00m \u001b[34m__name__\u001b[39m == \u001b[33m\"\u001b[39m\u001b[33m__main__\u001b[39m\u001b[33m\"\u001b[39m:\n\u001b[32m      8\u001b[39m     test_sum()\n\u001b[32m----> \u001b[39m\u001b[32m9\u001b[39m     \u001b[43mtest_sum_tuple\u001b[49m\u001b[43m(\u001b[49m\u001b[43m)\u001b[49m\n\u001b[32m     10\u001b[39m     \u001b[38;5;28mprint\u001b[39m(\u001b[33m\"\u001b[39m\u001b[33mEverything passed\u001b[39m\u001b[33m\"\u001b[39m)\n",
      "\u001b[36mCell\u001b[39m\u001b[36m \u001b[39m\u001b[32mIn[4]\u001b[39m\u001b[32m, line 5\u001b[39m, in \u001b[36mtest_sum_tuple\u001b[39m\u001b[34m()\u001b[39m\n\u001b[32m      4\u001b[39m \u001b[38;5;28;01mdef\u001b[39;00m\u001b[38;5;250m \u001b[39m\u001b[34mtest_sum_tuple\u001b[39m():\n\u001b[32m----> \u001b[39m\u001b[32m5\u001b[39m     \u001b[38;5;28;01massert\u001b[39;00m \u001b[38;5;28msum\u001b[39m((\u001b[32m1\u001b[39m, \u001b[32m2\u001b[39m, \u001b[32m2\u001b[39m)) == \u001b[32m6\u001b[39m, \u001b[33m\"\u001b[39m\u001b[33mShould be 6\u001b[39m\u001b[33m\"\u001b[39m\n",
      "\u001b[31mAssertionError\u001b[39m: Should be 6"
     ]
    }
   ],
   "source": [
    "def test_sum():\n",
    "    assert sum([1, 2, 3]) == 6, \"Should be 6\"\n",
    "\n",
    "def test_sum_tuple():\n",
    "    assert sum((1, 2, 2)) == 6, \"Should be 6\"\n",
    "\n",
    "if __name__ == \"__main__\":\n",
    "    test_sum()\n",
    "    test_sum_tuple()\n",
    "    print(\"Everything passed\")\n"
   ]
  },
  {
   "cell_type": "code",
   "execution_count": 5,
   "id": "b74122bf",
   "metadata": {},
   "outputs": [],
   "source": [
    "def test_sum():\n",
    "    assert sum([1, 2, 3]) == 6, \"Should be 6\"\n",
    "\n",
    "def test_sum_tuple():\n",
    "    assert sum((1, 2, 2)) == 6, \"Should be 6\"\n"
   ]
  },
  {
   "cell_type": "markdown",
   "id": "74df6789",
   "metadata": {},
   "source": [
    "Writing Your First Test - See Module_5 folder for tutorial code"
   ]
  },
  {
   "cell_type": "markdown",
   "id": "e1e7caa2",
   "metadata": {},
   "source": [
    "Executing Your First Test - See Module_5 folder for tutorial code"
   ]
  },
  {
   "cell_type": "markdown",
   "id": "3406163b",
   "metadata": {},
   "source": [
    "What do the test results mean?"
   ]
  },
  {
   "cell_type": "markdown",
   "id": "edd214f3",
   "metadata": {},
   "source": [
    "self = <test_package.TestSum_package testMethod=test_list_fraction>\n",
    "\n",
    "    def test_list_fraction(self):\n",
    "        \"\"\"\n",
    "        Test that it can sum a list of fractions\n",
    "        \"\"\"\n",
    "        data = [Fraction(1, 4), Fraction(1, 4), Fraction(2, 5)]\n",
    "        result = sum(data)\n",
    ">       self.assertEqual(result, 1)\n",
    "E       AssertionError: Fraction(9, 10) != 1 \n",
    "\n",
    "is saying that after getting the sum of all arguments, the result should equal 1. But since the sum is equal to the fraction 9/10, it is not equal to 1, thus giving an error. "
   ]
  },
  {
   "cell_type": "markdown",
   "id": "eee4f9e5",
   "metadata": {},
   "source": [
    "self = <test_sum_unittest.TestSum testMethod=test_sum_tuple>\n",
    "\n",
    "    def test_sum_tuple(self):\n",
    ">       self.assertEqual(sum((1, 2, 2)), 6, \"Should be 6\")\n",
    "E       AssertionError: 5 != 6 : Should be 6\n",
    "\n",
    "is saying a similar statement in that the sum of all arguments should be equal to 6, but it is equal to 5, thereby raising an error. "
   ]
  }
 ],
 "metadata": {
  "kernelspec": {
   "display_name": "Python 3",
   "language": "python",
   "name": "python3"
  },
  "language_info": {
   "codemirror_mode": {
    "name": "ipython",
    "version": 3
   },
   "file_extension": ".py",
   "mimetype": "text/x-python",
   "name": "python",
   "nbconvert_exporter": "python",
   "pygments_lexer": "ipython3",
   "version": "3.13.5"
  }
 },
 "nbformat": 4,
 "nbformat_minor": 5
}
