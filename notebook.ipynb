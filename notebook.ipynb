{
 "cells": [
  {
   "cell_type": "markdown",
   "id": "240bfd7b",
   "metadata": {},
   "source": [
    "3.1"
   ]
  },
  {
   "cell_type": "code",
   "execution_count": 8,
   "id": "925a0f48",
   "metadata": {},
   "outputs": [
    {
     "data": {
      "text/plain": [
       "3600"
      ]
     },
     "execution_count": 8,
     "metadata": {},
     "output_type": "execute_result"
    }
   ],
   "source": [
    "60 * 60"
   ]
  },
  {
   "cell_type": "markdown",
   "id": "5e96a288",
   "metadata": {},
   "source": [
    "3.2"
   ]
  },
  {
   "cell_type": "code",
   "execution_count": 9,
   "id": "5b1b2773",
   "metadata": {},
   "outputs": [],
   "source": [
    "seconds_per_hour = 60 * 60"
   ]
  },
  {
   "cell_type": "markdown",
   "id": "335d5129",
   "metadata": {},
   "source": [
    "3.3"
   ]
  },
  {
   "cell_type": "code",
   "execution_count": 10,
   "id": "82e6f712",
   "metadata": {},
   "outputs": [
    {
     "data": {
      "text/plain": [
       "86400"
      ]
     },
     "execution_count": 10,
     "metadata": {},
     "output_type": "execute_result"
    }
   ],
   "source": [
    "seconds_per_hour * 24"
   ]
  },
  {
   "cell_type": "markdown",
   "id": "5547acb0",
   "metadata": {},
   "source": [
    "3.4"
   ]
  },
  {
   "cell_type": "code",
   "execution_count": 11,
   "id": "f1931cd2",
   "metadata": {},
   "outputs": [],
   "source": [
    "seconds_per_day = seconds_per_hour * 24"
   ]
  },
  {
   "cell_type": "markdown",
   "id": "8eae303b",
   "metadata": {},
   "source": [
    "3.5"
   ]
  },
  {
   "cell_type": "code",
   "execution_count": 12,
   "id": "893ecd3d",
   "metadata": {},
   "outputs": [
    {
     "data": {
      "text/plain": [
       "24.0"
      ]
     },
     "execution_count": 12,
     "metadata": {},
     "output_type": "execute_result"
    }
   ],
   "source": [
    "seconds_per_day / seconds_per_hour"
   ]
  },
  {
   "cell_type": "markdown",
   "id": "47dc8907",
   "metadata": {},
   "source": [
    "3.6"
   ]
  },
  {
   "cell_type": "code",
   "execution_count": 13,
   "id": "f658fb6b",
   "metadata": {},
   "outputs": [
    {
     "data": {
      "text/plain": [
       "24"
      ]
     },
     "execution_count": 13,
     "metadata": {},
     "output_type": "execute_result"
    }
   ],
   "source": [
    "seconds_per_day // seconds_per_hour"
   ]
  },
  {
   "cell_type": "markdown",
   "id": "6ce59bbf",
   "metadata": {},
   "source": [
    "Yes, the numbers agreed. "
   ]
  },
  {
   "cell_type": "markdown",
   "id": "c9b6a8ee",
   "metadata": {},
   "source": [
    "4.1"
   ]
  },
  {
   "cell_type": "code",
   "execution_count": 20,
   "id": "1460689f",
   "metadata": {},
   "outputs": [
    {
     "name": "stdout",
     "output_type": "stream",
     "text": [
      "Your guess was correct! Well done!\n"
     ]
    }
   ],
   "source": [
    "secret = 2\n",
    "guess = int(input(\"Please enter your guess as an integer:\", ))\n",
    "\n",
    "if guess < secret:\n",
    "    print(\"Your guess was too low.\")\n",
    "\n",
    "elif guess > secret:\n",
    "    print(\"Your guess was too high\")\n",
    "\n",
    "else:\n",
    "    guess == secret\n",
    "    print(\"Your guess was correct! Well done!\")\n"
   ]
  },
  {
   "cell_type": "markdown",
   "id": "c1a23404",
   "metadata": {},
   "source": [
    "4.2"
   ]
  },
  {
   "cell_type": "code",
   "execution_count": 111,
   "id": "7d2ff646",
   "metadata": {},
   "outputs": [
    {
     "name": "stdout",
     "output_type": "stream",
     "text": [
      "This choice was either not small or not green\n"
     ]
    }
   ],
   "source": [
    "import random\n",
    "\n",
    "small = True\n",
    "green = True\n",
    "orange = False\n",
    "red = False\n",
    "large = False\n",
    "\n",
    "cherry = small and red\n",
    "\n",
    "pea = small and green\n",
    "\n",
    "watermelon = large and green\n",
    "\n",
    "pumpkin = large and orange\n",
    "\n",
    "list = [cherry, pea, watermelon, pumpkin]\n",
    "\n",
    "choice = random.choice(list)\n",
    "\n",
    "if choice == (small and green):\n",
    "    print(\"This choice is both small AND green\")\n",
    "\n",
    "else:\n",
    "    print(\"This choice was either not small or not green\")"
   ]
  },
  {
   "cell_type": "markdown",
   "id": "d35e5a14",
   "metadata": {},
   "source": [
    "6.1"
   ]
  },
  {
   "cell_type": "code",
   "execution_count": 113,
   "id": "e13542fa",
   "metadata": {},
   "outputs": [
    {
     "name": "stdout",
     "output_type": "stream",
     "text": [
      "3\n",
      "2\n",
      "1\n",
      "0\n"
     ]
    }
   ],
   "source": [
    "list = [3, 2, 1, 0]\n",
    "\n",
    "for x in list:\n",
    "    print(x)"
   ]
  },
  {
   "cell_type": "markdown",
   "id": "c3e37b16",
   "metadata": {},
   "source": [
    "6.2"
   ]
  },
  {
   "cell_type": "code",
   "execution_count": 117,
   "id": "629a45d3",
   "metadata": {},
   "outputs": [
    {
     "name": "stdout",
     "output_type": "stream",
     "text": [
      "too low\n",
      "too low\n",
      "oops\n",
      "Found it!\n"
     ]
    }
   ],
   "source": [
    "guess_me = 7\n",
    "\n",
    "number = 0\n",
    "\n",
    "while number != guess_me:\n",
    "    number = int(input(\"Please enter your guess as an integer:\"))\n",
    "    if number < guess_me:\n",
    "        print(\"too low\")\n",
    "    elif number > guess_me:\n",
    "        print(\"oops\")\n",
    "    else:\n",
    "        print(\"Found it!\")\n",
    "        break"
   ]
  },
  {
   "cell_type": "markdown",
   "id": "5811b316",
   "metadata": {},
   "source": [
    "6.3"
   ]
  },
  {
   "cell_type": "code",
   "execution_count": null,
   "id": "8d0619b9",
   "metadata": {},
   "outputs": [
    {
     "name": "stdout",
     "output_type": "stream",
     "text": [
      "too low\n",
      "too low\n",
      "too low\n",
      "too low\n",
      "too low\n",
      "Found it!\n"
     ]
    }
   ],
   "source": [
    "guess_me = 5\n",
    "\n",
    "number = range(10)\n",
    "\n",
    "for x in number:\n",
    "    if x < guess_me:\n",
    "        print(\"too low\")\n",
    "        x+=x\n",
    "    elif x > guess_me:\n",
    "        print(\"oops\")\n",
    "        break\n",
    "    else:\n",
    "        print(\"Found it!\")\n",
    "        break"
   ]
  }
 ],
 "metadata": {
  "kernelspec": {
   "display_name": "Python 3",
   "language": "python",
   "name": "python3"
  },
  "language_info": {
   "codemirror_mode": {
    "name": "ipython",
    "version": 3
   },
   "file_extension": ".py",
   "mimetype": "text/x-python",
   "name": "python",
   "nbconvert_exporter": "python",
   "pygments_lexer": "ipython3",
   "version": "3.13.5"
  }
 },
 "nbformat": 4,
 "nbformat_minor": 5
}
