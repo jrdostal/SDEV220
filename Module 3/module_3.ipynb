{
 "cells": [
  {
   "cell_type": "markdown",
   "id": "f900a438",
   "metadata": {},
   "source": [
    "Binary Search"
   ]
  },
  {
   "cell_type": "code",
   "execution_count": 1,
   "id": "89c35530",
   "metadata": {},
   "outputs": [
    {
     "name": "stdout",
     "output_type": "stream",
     "text": [
      "4 appears at index 4.\n",
      "445 is not present\n",
      "1 appears at index 1.\n"
     ]
    }
   ],
   "source": [
    "class Solution:\n",
    "    def binarysearch(self, list, k):\n",
    "        self.index = k\n",
    "        self.list = list\n",
    "        for x in range(0,len(self.list)):\n",
    "            try:\n",
    "                if(self.index==self.list[x]):\n",
    "                    print(f\"{self.index} appears at index {self.list[x]}.\")\n",
    "                    break\n",
    "                elif(self.index > self.list[self.index]):\n",
    "                    raise IndexError\n",
    "                else:\n",
    "                    x+=x\n",
    "            except IndexError:\n",
    "                print(f\"{self.index} is not present\")\n",
    "                break\n",
    "\n",
    "arr1= [1, 2, 3, 4, 5]\n",
    "k1 = 4   \n",
    "\n",
    "arr2 = [11, 22, 33, 44, 55]\n",
    "k2 = 445\n",
    "\n",
    "arr3 = [1, 1, 1, 1, 2]\n",
    "k3 = 1\n",
    "\n",
    "S1 = Solution()\n",
    "S2 = Solution()\n",
    "S3 = Solution()\n",
    "\n",
    "S1.binarysearch(list=arr1,k=k1)\n",
    "S1.binarysearch(list=arr2,k=k2)\n",
    "S1.binarysearch(list=arr3,k=k3)"
   ]
  },
  {
   "cell_type": "markdown",
   "id": "c55c17c4",
   "metadata": {},
   "source": [
    "Sort Array 0s, 1s, 2s"
   ]
  },
  {
   "cell_type": "code",
   "execution_count": 2,
   "id": "79f412ac",
   "metadata": {},
   "outputs": [
    {
     "name": "stdout",
     "output_type": "stream",
     "text": [
      "0s, 1s, and 2s are segregated into ascending order.\n",
      "List contents after sorting: [0, 0, 1, 1, 2, 2]\n",
      "0s, 1s, and 2s are segregated into ascending order.\n",
      "List contents after sorting: [0, 0, 0, 0, 0, 1, 1, 1, 1, 1, 2, 2]\n"
     ]
    }
   ],
   "source": [
    "class Solution:\n",
    "    # Function to sort an array of 0s, 1s, and 2s\n",
    "    def sort012(self,list):\n",
    "         a = list\n",
    "         for x in range(0,len(a)):\n",
    "            for y in range(x+1,len(a)):\n",
    "                if(a[x] > a[y]):\n",
    "                    temp = a[x]\n",
    "                    a[x] = a[y]\n",
    "                    a[y] = temp\n",
    "         print(f\"0s, 1s, and 2s are segregated into ascending order.\")\n",
    "         print(f\"List contents after sorting: {a}\")    \n",
    "\n",
    "arr1 = [0, 2, 1, 0, 2, 1]\n",
    "arr2 = [0, 1, 1, 0, 1, 2, 1, 2, 0, 0, 0, 1]\n",
    "\n",
    "S1 = Solution()\n",
    "S2 = Solution()\n",
    "\n",
    "arr1 = Solution.sort012(S1,arr1)\n",
    "arr2 = Solution.sort012(S2,arr2)"
   ]
  }
 ],
 "metadata": {
  "kernelspec": {
   "display_name": ".venv",
   "language": "python",
   "name": "python3"
  },
  "language_info": {
   "codemirror_mode": {
    "name": "ipython",
    "version": 3
   },
   "file_extension": ".py",
   "mimetype": "text/x-python",
   "name": "python",
   "nbconvert_exporter": "python",
   "pygments_lexer": "ipython3",
   "version": "3.13.5"
  }
 },
 "nbformat": 4,
 "nbformat_minor": 5
}
